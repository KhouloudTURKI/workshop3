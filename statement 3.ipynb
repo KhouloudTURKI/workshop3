{
 "cells": [
  {
   "cell_type": "code",
   "execution_count": 4,
   "id": "2f167dab",
   "metadata": {},
   "outputs": [
    {
     "name": "stdout",
     "output_type": "stream",
     "text": [
      "36\n"
     ]
    }
   ],
   "source": [
    "def multiply_list(liste):\n",
    "    x = 1\n",
    "    for i in liste:\n",
    "        x *= i\n",
    "    return x\n",
    "print(multiply_list([2,6,3]))"
   ]
  },
  {
   "cell_type": "code",
   "execution_count": 11,
   "id": "87ff702f",
   "metadata": {},
   "outputs": [
    {
     "name": "stdout",
     "output_type": "stream",
     "text": [
      "[(2, 1), (1, 2), (2, 3), (4, 4), (2, 5)]\n"
     ]
    }
   ],
   "source": [
    "def x(n): return n [-1]\n",
    "\n",
    "def sort_list_x(tuples):\n",
    "     return sorted(tuples, key=x)\n",
    "\n",
    "print(sort_list_x([(2, 5), (1, 2), (4, 4), (2, 3), (2, 1)]))"
   ]
  },
  {
   "cell_type": "code",
   "execution_count": 6,
   "id": "42710af8",
   "metadata": {},
   "outputs": [
    {
     "name": "stdout",
     "output_type": "stream",
     "text": [
      "{'a': 400, 'b': 400, 'd': 400, 'c': 300}\n"
     ]
    }
   ],
   "source": [
    "d1 = {'a': 100, 'b': 200, 'c':300}\n",
    "d2 = {'a': 300, 'b': 200, 'd':400}\n",
    "for i in d2 :\n",
    "    if i in d1 :\n",
    "        d2[i] = d2[i]+d1[i]\n",
    "    else:\n",
    "        pass\n",
    "for k in d1 :\n",
    "    if k in d2 :\n",
    "        pass\n",
    "    else:\n",
    "        d2[k]=d1[k]\n",
    "\n",
    "print (d2)"
   ]
  },
  {
   "cell_type": "code",
   "execution_count": 9,
   "id": "2e8487a4",
   "metadata": {},
   "outputs": [
    {
     "name": "stdout",
     "output_type": "stream",
     "text": [
      "Type a number: 8\n",
      "{1: 1, 2: 4, 3: 9, 4: 16, 5: 25, 6: 36, 7: 49, 8: 64}\n"
     ]
    }
   ],
   "source": [
    "number = int(input(\"Type a number: \"))\n",
    "\n",
    "numberDict = {}\n",
    "for i in range(1, number+1):\n",
    "    numberDict[i] = i*i\n",
    "\n",
    "print(numberDict)"
   ]
  },
  {
   "cell_type": "code",
   "execution_count": 10,
   "id": "8948021f",
   "metadata": {},
   "outputs": [
    {
     "name": "stdout",
     "output_type": "stream",
     "text": [
      "[('item3', '24.5'), ('item2', '15.10'), ('item1', '12.20')]\n"
     ]
    }
   ],
   "source": [
    "List = [('item1', '12.20'), ('item2', '15.10'), ('item3', '24.5')]\n",
    "print( sorted(List, key=lambda x: float(x[1]), reverse=True))"
   ]
  },
  {
   "cell_type": "code",
   "execution_count": null,
   "id": "7fc79240",
   "metadata": {},
   "outputs": [],
   "source": []
  }
 ],
 "metadata": {
  "kernelspec": {
   "display_name": "Python 3 (ipykernel)",
   "language": "python",
   "name": "python3"
  },
  "language_info": {
   "codemirror_mode": {
    "name": "ipython",
    "version": 3
   },
   "file_extension": ".py",
   "mimetype": "text/x-python",
   "name": "python",
   "nbconvert_exporter": "python",
   "pygments_lexer": "ipython3",
   "version": "3.9.7"
  }
 },
 "nbformat": 4,
 "nbformat_minor": 5
}
